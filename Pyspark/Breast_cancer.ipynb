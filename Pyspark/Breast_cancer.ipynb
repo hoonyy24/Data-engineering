{
 "cells": [
  {
   "cell_type": "code",
   "execution_count": 120,
   "id": "84e8dcb2-bb3e-44cc-9617-92a2862e957a",
   "metadata": {},
   "outputs": [],
   "source": [
    "import kagglehub\n",
    "import os\n",
    "import pandas as pd\n",
    "import matplotlib.pyplot as plt\n",
    "from pyspark.sql import SparkSession\n",
    "from pyspark.sql.functions import col, sum, count,when\n",
    "from pyspark.ml.feature import VectorAssembler\n",
    "from pyspark.ml.classification import LogisticRegression\n",
    "from pyspark.ml.evaluation import BinaryClassificationEvaluator"
   ]
  },
  {
   "cell_type": "code",
   "execution_count": 107,
   "id": "1b06b91c-b906-4d4b-bd72-ff791914516f",
   "metadata": {},
   "outputs": [
    {
     "name": "stdout",
     "output_type": "stream",
     "text": [
      "Path to dataset files: /home/lee/.cache/kagglehub/datasets/saurabhbadole/breast-cancer-wisconsin-state/versions/1\n",
      "Files in dataset path: ['breast-cancer-wisconsin.data']\n"
     ]
    }
   ],
   "source": [
    "# Download latest version\n",
    "path = kagglehub.dataset_download(\"saurabhbadole/breast-cancer-wisconsin-state\")\n",
    "\n",
    "print(\"Path to dataset files:\", path)\n",
    "\n",
    "# print all of the files in the directory\n",
    "print(\"Files in dataset path:\", os.listdir(path))"
   ]
  },
  {
   "cell_type": "code",
   "execution_count": 108,
   "id": "4fd1c36d-049b-463d-b836-ba62fa1f3fbd",
   "metadata": {},
   "outputs": [
    {
     "data": {
      "text/html": [
       "\n",
       "            <div>\n",
       "                <p><b>SparkSession - in-memory</b></p>\n",
       "                \n",
       "        <div>\n",
       "            <p><b>SparkContext</b></p>\n",
       "\n",
       "            <p><a href=\"http://10.255.255.254:4040\">Spark UI</a></p>\n",
       "\n",
       "            <dl>\n",
       "              <dt>Version</dt>\n",
       "                <dd><code>v3.5.5</code></dd>\n",
       "              <dt>Master</dt>\n",
       "                <dd><code>local[*]</code></dd>\n",
       "              <dt>AppName</dt>\n",
       "                <dd><code>Spark practice</code></dd>\n",
       "            </dl>\n",
       "        </div>\n",
       "        \n",
       "            </div>\n",
       "        "
      ],
      "text/plain": [
       "<pyspark.sql.session.SparkSession at 0x7ff5ca9dc040>"
      ]
     },
     "execution_count": 108,
     "metadata": {},
     "output_type": "execute_result"
    }
   ],
   "source": [
    "spark = SparkSession.builder \\\n",
    "    .appName(\"Breast Cancer Data Processing\") \\\n",
    "    .config(\"spark.sql.shuffle.partitions\", \"200\") \\\n",
    "    .config(\"spark.executor.memory\", \"4g\") \\\n",
    "    .config(\"spark.driver.memory\", \"2g\") \\\n",
    "    .getOrCreate()\n",
    "spark"
   ]
  },
  {
   "cell_type": "code",
   "execution_count": 109,
   "id": "82c201f3-417b-404e-954c-14b9d40131ca",
   "metadata": {},
   "outputs": [
    {
     "name": "stdout",
     "output_type": "stream",
     "text": [
      "root\n",
      " |-- id_number: integer (nullable = true)\n",
      " |-- Clump_Thickness: integer (nullable = true)\n",
      " |-- Uniformity_of_Cell_Size: integer (nullable = true)\n",
      " |-- Uniformity_of_Cell_Shape: integer (nullable = true)\n",
      " |-- Marginal_Adhesion: integer (nullable = true)\n",
      " |-- Single_Epithelial_Cell_Size: integer (nullable = true)\n",
      " |-- Bare_Nuclei: string (nullable = true)\n",
      " |-- Bland_Chromatin: integer (nullable = true)\n",
      " |-- Normal_Nucleoli: integer (nullable = true)\n",
      " |-- Mitoses: integer (nullable = true)\n",
      " |-- Class: integer (nullable = true)\n",
      "\n",
      "+---------+---------------+-----------------------+------------------------+-----------------+---------------------------+-----------+---------------+---------------+-------+-----+\n",
      "|id_number|Clump_Thickness|Uniformity_of_Cell_Size|Uniformity_of_Cell_Shape|Marginal_Adhesion|Single_Epithelial_Cell_Size|Bare_Nuclei|Bland_Chromatin|Normal_Nucleoli|Mitoses|Class|\n",
      "+---------+---------------+-----------------------+------------------------+-----------------+---------------------------+-----------+---------------+---------------+-------+-----+\n",
      "|  1000025|              5|                      1|                       1|                1|                          2|          1|              3|              1|      1|    2|\n",
      "|  1002945|              5|                      4|                       4|                5|                          7|         10|              3|              2|      1|    2|\n",
      "|  1015425|              3|                      1|                       1|                1|                          2|          2|              3|              1|      1|    2|\n",
      "|  1016277|              6|                      8|                       8|                1|                          3|          4|              3|              7|      1|    2|\n",
      "|  1017023|              4|                      1|                       1|                3|                          2|          1|              3|              1|      1|    2|\n",
      "+---------+---------------+-----------------------+------------------------+-----------------+---------------------------+-----------+---------------+---------------+-------+-----+\n",
      "only showing top 5 rows\n",
      "\n"
     ]
    }
   ],
   "source": [
    "#Load CSV file (Make sure `path` is correctly set)\n",
    "df = spark.read.csv(path, header=False, inferSchema=True)\n",
    "\n",
    "#Rename Columns Properly (Use `.toDF()`)\n",
    "df = df.toDF(\n",
    "    \"id_number\", \"Clump_Thickness\", \"Uniformity_of_Cell_Size\", \"Uniformity_of_Cell_Shape\",\n",
    "    \"Marginal_Adhesion\", \"Single_Epithelial_Cell_Size\", \"Bare_Nuclei\", \"Bland_Chromatin\",\n",
    "    \"Normal_Nucleoli\", \"Mitoses\", \"Class\"\n",
    ")\n",
    "\n",
    "#Print Schema and Data Sample\n",
    "df.printSchema()\n",
    "df.show(5)"
   ]
  },
  {
   "cell_type": "code",
   "execution_count": 110,
   "id": "f01d8acb-6943-4f08-9a38-06e1816c8273",
   "metadata": {},
   "outputs": [
    {
     "name": "stdout",
     "output_type": "stream",
     "text": [
      "+-----------+\n",
      "|Bare_Nuclei|\n",
      "+-----------+\n",
      "|          7|\n",
      "|          3|\n",
      "|          8|\n",
      "|          5|\n",
      "|          6|\n",
      "|          9|\n",
      "|          1|\n",
      "|         10|\n",
      "|          4|\n",
      "|          ?|\n",
      "|          2|\n",
      "+-----------+\n",
      "\n"
     ]
    }
   ],
   "source": [
    "df.select(\"Bare_Nuclei\").distinct().show()"
   ]
  },
  {
   "cell_type": "code",
   "execution_count": 111,
   "id": "158c9c2d-d900-4c52-a532-75c2bb9c1697",
   "metadata": {},
   "outputs": [
    {
     "name": "stdout",
     "output_type": "stream",
     "text": [
      "root\n",
      " |-- id_number: integer (nullable = true)\n",
      " |-- Clump_Thickness: integer (nullable = true)\n",
      " |-- Uniformity_of_Cell_Size: integer (nullable = true)\n",
      " |-- Uniformity_of_Cell_Shape: integer (nullable = true)\n",
      " |-- Marginal_Adhesion: integer (nullable = true)\n",
      " |-- Single_Epithelial_Cell_Size: integer (nullable = true)\n",
      " |-- Bare_Nuclei: integer (nullable = true)\n",
      " |-- Bland_Chromatin: integer (nullable = true)\n",
      " |-- Normal_Nucleoli: integer (nullable = true)\n",
      " |-- Mitoses: integer (nullable = true)\n",
      " |-- Class: integer (nullable = true)\n",
      "\n"
     ]
    }
   ],
   "source": [
    "df = df.withColumn(\"Bare_Nuclei\", col(\"Bare_Nuclei\").cast(\"int\"))\n",
    "df.printSchema()  # Check again after conversion"
   ]
  },
  {
   "cell_type": "code",
   "execution_count": 112,
   "id": "0453277b-10b8-42e1-b245-afa9ee64214c",
   "metadata": {},
   "outputs": [
    {
     "name": "stdout",
     "output_type": "stream",
     "text": [
      "Unique values in column: id_number\n",
      "+---------+\n",
      "|id_number|\n",
      "+---------+\n",
      "|  1047630|\n",
      "|  1205579|\n",
      "|   822829|\n",
      "|   428598|\n",
      "|  1231853|\n",
      "|  1145420|\n",
      "|  1371920|\n",
      "|   534555|\n",
      "|  1156948|\n",
      "|  1180194|\n",
      "|  1075123|\n",
      "|  1126417|\n",
      "|   657753|\n",
      "|  1315506|\n",
      "|  1171710|\n",
      "|   740492|\n",
      "|   805448|\n",
      "|   608157|\n",
      "|  1170420|\n",
      "|  1184241|\n",
      "+---------+\n",
      "only showing top 20 rows\n",
      "\n",
      "Unique values in column: Clump_Thickness\n",
      "+---------------+\n",
      "|Clump_Thickness|\n",
      "+---------------+\n",
      "|              1|\n",
      "|              6|\n",
      "|              3|\n",
      "|              5|\n",
      "|              9|\n",
      "|              4|\n",
      "|              8|\n",
      "|              7|\n",
      "|             10|\n",
      "|              2|\n",
      "+---------------+\n",
      "\n",
      "Unique values in column: Uniformity_of_Cell_Size\n",
      "+-----------------------+\n",
      "|Uniformity_of_Cell_Size|\n",
      "+-----------------------+\n",
      "|                      1|\n",
      "|                      6|\n",
      "|                      3|\n",
      "|                      5|\n",
      "|                      9|\n",
      "|                      4|\n",
      "|                      8|\n",
      "|                      7|\n",
      "|                     10|\n",
      "|                      2|\n",
      "+-----------------------+\n",
      "\n",
      "Unique values in column: Uniformity_of_Cell_Shape\n",
      "+------------------------+\n",
      "|Uniformity_of_Cell_Shape|\n",
      "+------------------------+\n",
      "|                       1|\n",
      "|                       6|\n",
      "|                       3|\n",
      "|                       5|\n",
      "|                       9|\n",
      "|                       4|\n",
      "|                       8|\n",
      "|                       7|\n",
      "|                      10|\n",
      "|                       2|\n",
      "+------------------------+\n",
      "\n",
      "Unique values in column: Marginal_Adhesion\n",
      "+-----------------+\n",
      "|Marginal_Adhesion|\n",
      "+-----------------+\n",
      "|                1|\n",
      "|                6|\n",
      "|                3|\n",
      "|                5|\n",
      "|                9|\n",
      "|                4|\n",
      "|                8|\n",
      "|                7|\n",
      "|               10|\n",
      "|                2|\n",
      "+-----------------+\n",
      "\n",
      "Unique values in column: Single_Epithelial_Cell_Size\n",
      "+---------------------------+\n",
      "|Single_Epithelial_Cell_Size|\n",
      "+---------------------------+\n",
      "|                          1|\n",
      "|                          6|\n",
      "|                          3|\n",
      "|                          5|\n",
      "|                          9|\n",
      "|                          4|\n",
      "|                          8|\n",
      "|                          7|\n",
      "|                         10|\n",
      "|                          2|\n",
      "+---------------------------+\n",
      "\n",
      "Unique values in column: Bare_Nuclei\n",
      "+-----------+\n",
      "|Bare_Nuclei|\n",
      "+-----------+\n",
      "|          1|\n",
      "|          6|\n",
      "|          3|\n",
      "|          5|\n",
      "|          9|\n",
      "|          4|\n",
      "|          8|\n",
      "|          7|\n",
      "|         10|\n",
      "|          2|\n",
      "|       NULL|\n",
      "+-----------+\n",
      "\n",
      "Unique values in column: Bland_Chromatin\n",
      "+---------------+\n",
      "|Bland_Chromatin|\n",
      "+---------------+\n",
      "|              1|\n",
      "|              6|\n",
      "|              3|\n",
      "|              5|\n",
      "|              9|\n",
      "|              4|\n",
      "|              8|\n",
      "|              7|\n",
      "|             10|\n",
      "|              2|\n",
      "+---------------+\n",
      "\n",
      "Unique values in column: Normal_Nucleoli\n",
      "+---------------+\n",
      "|Normal_Nucleoli|\n",
      "+---------------+\n",
      "|              1|\n",
      "|              6|\n",
      "|              3|\n",
      "|              5|\n",
      "|              9|\n",
      "|              4|\n",
      "|              8|\n",
      "|              7|\n",
      "|             10|\n",
      "|              2|\n",
      "+---------------+\n",
      "\n",
      "Unique values in column: Mitoses\n",
      "+-------+\n",
      "|Mitoses|\n",
      "+-------+\n",
      "|      1|\n",
      "|      6|\n",
      "|      3|\n",
      "|      5|\n",
      "|      4|\n",
      "|      8|\n",
      "|      7|\n",
      "|     10|\n",
      "|      2|\n",
      "+-------+\n",
      "\n",
      "Unique values in column: Class\n",
      "+-----+\n",
      "|Class|\n",
      "+-----+\n",
      "|    4|\n",
      "|    2|\n",
      "+-----+\n",
      "\n"
     ]
    }
   ],
   "source": [
    "for col_name in df.columns:\n",
    "    print(f\"Unique values in column: {col_name}\")\n",
    "    df.select(col_name).distinct().show()"
   ]
  },
  {
   "cell_type": "code",
   "execution_count": 113,
   "id": "86b13680-0ce9-4191-9b33-5897890302ad",
   "metadata": {},
   "outputs": [
    {
     "name": "stdout",
     "output_type": "stream",
     "text": [
      "+-----------+-----+\n",
      "|Bare_Nuclei|Class|\n",
      "+-----------+-----+\n",
      "|          1|    0|\n",
      "|         10|    0|\n",
      "|          2|    0|\n",
      "|          4|    0|\n",
      "|          1|    0|\n",
      "|         10|    1|\n",
      "|         10|    0|\n",
      "|          1|    0|\n",
      "|          1|    0|\n",
      "|          1|    0|\n",
      "+-----------+-----+\n",
      "only showing top 10 rows\n",
      "\n"
     ]
    }
   ],
   "source": [
    "#Convert \"Class\" column to binary (1 if 4, else 0)\n",
    "df = df.withColumn(\"Class\", when(col(\"Class\") == 4, 1).otherwise(0))\n",
    "\n",
    "#Replace \"?\" with NULL in \"Bare_Nuclei\"\n",
    "df = df.withColumn(\"Bare_Nuclei\", when(col(\"Bare_Nuclei\") == \"?\", None).otherwise(col(\"Bare_Nuclei\")))\n",
    "\n",
    "#Convert \"Bare_Nuclei\" to integer (after replacing \"?\" with NULL)\n",
    "df = df.withColumn(\"Bare_Nuclei\", col(\"Bare_Nuclei\").cast(\"int\"))\n",
    "\n",
    "#Verify transformations\n",
    "df.select(\"Bare_Nuclei\", \"Class\").show(10)"
   ]
  },
  {
   "cell_type": "code",
   "execution_count": 114,
   "id": "d8328455-d90f-47e3-9cfd-a4a3f9c62327",
   "metadata": {},
   "outputs": [
    {
     "name": "stdout",
     "output_type": "stream",
     "text": [
      "+-----------+\n",
      "|Bare_Nuclei|\n",
      "+-----------+\n",
      "|          1|\n",
      "|          6|\n",
      "|          3|\n",
      "|          5|\n",
      "|          9|\n",
      "|          4|\n",
      "|          8|\n",
      "|          7|\n",
      "|         10|\n",
      "|          2|\n",
      "|       NULL|\n",
      "+-----------+\n",
      "\n"
     ]
    }
   ],
   "source": [
    "df.select(\"Bare_Nuclei\").distinct().show()"
   ]
  },
  {
   "cell_type": "code",
   "execution_count": 115,
   "id": "6e2278eb-95ff-46cb-83d2-80bd5d6cd325",
   "metadata": {},
   "outputs": [
    {
     "name": "stdout",
     "output_type": "stream",
     "text": [
      "+---------+---------------+-----------------------+------------------------+-----------------+---------------------------+-----------+---------------+---------------+-------+-----+\n",
      "|id_number|Clump_Thickness|Uniformity_of_Cell_Size|Uniformity_of_Cell_Shape|Marginal_Adhesion|Single_Epithelial_Cell_Size|Bare_Nuclei|Bland_Chromatin|Normal_Nucleoli|Mitoses|Class|\n",
      "+---------+---------------+-----------------------+------------------------+-----------------+---------------------------+-----------+---------------+---------------+-------+-----+\n",
      "|  1000025|              5|                      1|                       1|                1|                          2|          1|              3|              1|      1|    0|\n",
      "|  1002945|              5|                      4|                       4|                5|                          7|         10|              3|              2|      1|    0|\n",
      "|  1015425|              3|                      1|                       1|                1|                          2|          2|              3|              1|      1|    0|\n",
      "|  1016277|              6|                      8|                       8|                1|                          3|          4|              3|              7|      1|    0|\n",
      "|  1017023|              4|                      1|                       1|                3|                          2|          1|              3|              1|      1|    0|\n",
      "+---------+---------------+-----------------------+------------------------+-----------------+---------------------------+-----------+---------------+---------------+-------+-----+\n",
      "only showing top 5 rows\n",
      "\n"
     ]
    }
   ],
   "source": [
    "column_names = [\n",
    "    'id_number', 'Clump_Thickness', 'Uniformity_of_Cell_Size', 'Uniformity_of_Cell_Shape',\n",
    "    'Marginal_Adhesion', 'Single_Epithelial_Cell_Size', 'Bare_Nuclei', 'Bland_Chromatin',\n",
    "    'Normal_Nucleoli', 'Mitoses', 'Class'\n",
    "]\n",
    "\n",
    "df = df.toDF(*column_names)\n",
    "\n",
    "df.show(5)"
   ]
  },
  {
   "cell_type": "code",
   "execution_count": 116,
   "id": "b2ce8a60-f1cc-4c9b-9e5e-409a1afc1664",
   "metadata": {},
   "outputs": [
    {
     "name": "stdout",
     "output_type": "stream",
     "text": [
      "+---------+---------------+-----------------------+------------------------+-----------------+---------------------------+-----------+---------------+---------------+-------+-----+\n",
      "|id_number|Clump_Thickness|Uniformity_of_Cell_Size|Uniformity_of_Cell_Shape|Marginal_Adhesion|Single_Epithelial_Cell_Size|Bare_Nuclei|Bland_Chromatin|Normal_Nucleoli|Mitoses|Class|\n",
      "+---------+---------------+-----------------------+------------------------+-----------------+---------------------------+-----------+---------------+---------------+-------+-----+\n",
      "|        0|              0|                      0|                       0|                0|                          0|         16|              0|              0|      0|    0|\n",
      "+---------+---------------+-----------------------+------------------------+-----------------+---------------------------+-----------+---------------+---------------+-------+-----+\n",
      "\n"
     ]
    }
   ],
   "source": [
    "# Count NULL values in each column\n",
    "null_counts = df.select([sum(col(c).isNull().cast(\"int\")).alias(c) for c in df.columns])\n",
    "null_counts.show()"
   ]
  },
  {
   "cell_type": "code",
   "execution_count": 117,
   "id": "ee05afbb-def8-48e1-9d3f-b2af5e185a45",
   "metadata": {},
   "outputs": [
    {
     "name": "stdout",
     "output_type": "stream",
     "text": [
      "+---------+---------------+-----------------------+------------------------+-----------------+---------------------------+-----------+---------------+---------------+-------+-----+\n",
      "|id_number|Clump_Thickness|Uniformity_of_Cell_Size|Uniformity_of_Cell_Shape|Marginal_Adhesion|Single_Epithelial_Cell_Size|Bare_Nuclei|Bland_Chromatin|Normal_Nucleoli|Mitoses|Class|\n",
      "+---------+---------------+-----------------------+------------------------+-----------------+---------------------------+-----------+---------------+---------------+-------+-----+\n",
      "|  1000025|              5|                      1|                       1|                1|                          2|          1|              3|              1|      1|    0|\n",
      "|  1002945|              5|                      4|                       4|                5|                          7|         10|              3|              2|      1|    0|\n",
      "|  1015425|              3|                      1|                       1|                1|                          2|          2|              3|              1|      1|    0|\n",
      "|  1016277|              6|                      8|                       8|                1|                          3|          4|              3|              7|      1|    0|\n",
      "|  1017023|              4|                      1|                       1|                3|                          2|          1|              3|              1|      1|    0|\n",
      "+---------+---------------+-----------------------+------------------------+-----------------+---------------------------+-----------+---------------+---------------+-------+-----+\n",
      "only showing top 5 rows\n",
      "\n"
     ]
    }
   ],
   "source": [
    "#Compute Median (50th percentile) for \"Bare_Nuclei\"\n",
    "median_value = df.approxQuantile(\"Bare_Nuclei\", [0.5], 0.0)[0]  # 0.5 = 50% quantile\n",
    "\n",
    "#Replace NULL values with Median\n",
    "df = df.fillna({\"Bare_Nuclei\": median_value})\n",
    "\n",
    "#Show updated DataFrame\n",
    "df.show(5)"
   ]
  },
  {
   "cell_type": "code",
   "execution_count": 118,
   "id": "e598b799-3deb-4851-bf83-2abde12380b0",
   "metadata": {},
   "outputs": [
    {
     "name": "stdout",
     "output_type": "stream",
     "text": [
      "+--------------------+-----+\n",
      "|            features|Class|\n",
      "+--------------------+-----+\n",
      "|[5.0,1.0,1.0,1.0,...|    0|\n",
      "|[5.0,4.0,4.0,5.0,...|    0|\n",
      "|[3.0,1.0,1.0,1.0,...|    0|\n",
      "|[6.0,8.0,8.0,1.0,...|    0|\n",
      "|[4.0,1.0,1.0,3.0,...|    0|\n",
      "+--------------------+-----+\n",
      "only showing top 5 rows\n",
      "\n"
     ]
    }
   ],
   "source": [
    "feature_columns = df.columns[1:-1] \n",
    "assembler = VectorAssembler(inputCols=feature_columns, outputCol=\"features\")\n",
    "\n",
    "df_transformed = assembler.transform(df)\n",
    "df_transformed.select(\"features\", \"Class\").show(5)"
   ]
  },
  {
   "cell_type": "code",
   "execution_count": 119,
   "id": "84582ded-7528-4092-be53-4d5273ebfce6",
   "metadata": {},
   "outputs": [
    {
     "name": "stderr",
     "output_type": "stream",
     "text": [
      "25/03/19 19:04:16 WARN InstanceBuilder: Failed to load implementation from:dev.ludovic.netlib.blas.JNIBLAS\n"
     ]
    },
    {
     "name": "stdout",
     "output_type": "stream",
     "text": [
      "Model AUC Score: 0.9997\n",
      "+--------------------+-----+----------+\n",
      "|            features|Class|prediction|\n",
      "+--------------------+-----+----------+\n",
      "|[10.0,4.0,7.0,2.0...|    1|       1.0|\n",
      "|[8.0,10.0,10.0,8....|    1|       1.0|\n",
      "|[5.0,8.0,8.0,10.0...|    1|       1.0|\n",
      "|[5.0,3.0,2.0,8.0,...|    1|       1.0|\n",
      "|[10.0,4.0,4.0,10....|    1|       1.0|\n",
      "+--------------------+-----+----------+\n",
      "only showing top 5 rows\n",
      "\n"
     ]
    }
   ],
   "source": [
    "train_df, test_df = df_transformed.randomSplit([0.8, 0.2], seed=42)\n",
    "\n",
    "lr = LogisticRegression(featuresCol=\"features\", labelCol=\"Class\", maxIter=10)\n",
    "lr_model = lr.fit(train_df)\n",
    "\n",
    "predictions = lr_model.transform(test_df)\n",
    "\n",
    "evaluator = BinaryClassificationEvaluator(labelCol=\"Class\")\n",
    "auc = evaluator.evaluate(predictions)\n",
    "print(f\"Model AUC Score: {auc:.4f}\")\n",
    "\n",
    "predictions.select(\"features\", \"Class\", \"prediction\").show(5)"
   ]
  },
  {
   "cell_type": "code",
   "execution_count": 121,
   "id": "1d9c80e8-b1a5-48fa-8503-5c356c263014",
   "metadata": {},
   "outputs": [
    {
     "name": "stdout",
     "output_type": "stream",
     "text": [
      "+-----+----------+-----+\n",
      "|Class|prediction|count|\n",
      "+-----+----------+-----+\n",
      "|    0|       0.0|   61|\n",
      "|    0|       1.0|    1|\n",
      "|    1|       0.0|    1|\n",
      "|    1|       1.0|   49|\n",
      "+-----+----------+-----+\n",
      "\n"
     ]
    }
   ],
   "source": [
    "#Compute Confusion Matrix\n",
    "conf_matrix = predictions.groupBy(\"Class\", \"prediction\").count().orderBy(\"Class\", \"prediction\")\n",
    "conf_matrix.show()"
   ]
  },
  {
   "cell_type": "code",
   "execution_count": 123,
   "id": "97edbda1-1503-436a-a862-1652448b2b22",
   "metadata": {},
   "outputs": [
    {
     "name": "stdout",
     "output_type": "stream",
     "text": [
      "Model Accuracy: 0.9821\n"
     ]
    }
   ],
   "source": [
    "#Compute Correct Predictions (TP + TN)\n",
    "correct_predictions = predictions.filter(col(\"Class\") == col(\"prediction\")).count()\n",
    "\n",
    "#Compute Total Predictions\n",
    "total_predictions = predictions.count()\n",
    "\n",
    "#Calculate Accuracy\n",
    "accuracy = correct_predictions / total_predictions\n",
    "print(f\"Model Accuracy: {accuracy:.4f}\")"
   ]
  }
 ],
 "metadata": {
  "kernelspec": {
   "display_name": "Python 3 (ipykernel)",
   "language": "python",
   "name": "python3"
  },
  "language_info": {
   "codemirror_mode": {
    "name": "ipython",
    "version": 3
   },
   "file_extension": ".py",
   "mimetype": "text/x-python",
   "name": "python",
   "nbconvert_exporter": "python",
   "pygments_lexer": "ipython3",
   "version": "3.10.12"
  }
 },
 "nbformat": 4,
 "nbformat_minor": 5
}
